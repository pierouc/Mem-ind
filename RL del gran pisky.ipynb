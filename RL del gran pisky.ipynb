{
 "cells": [
  {
   "cell_type": "code",
   "outputs": [],
   "source": [
    "import matplotlib.pyplot as plt\n",
    "from gym_anytrading.envs import StocksEnv\n",
    "from finta import TA"
   ],
   "metadata": {
    "collapsed": false,
    "ExecuteTime": {
     "end_time": "2024-04-08T06:07:03.841420Z",
     "start_time": "2024-04-08T06:07:03.837099Z"
    }
   },
   "id": "3f30d7eff5e960be",
   "execution_count": 2
  },
  {
   "cell_type": "code",
   "outputs": [],
   "source": [
    "#create a function to calculate the RSI\n",
    "def calculate_rsi_ta(data):\n",
    "    \"\"\"\n",
    "    This function calculates the RSI of the data\n",
    "    :param data: pandas dataframe with the data\n",
    "    :return data: pandas dataframe with the RSI\n",
    "    \"\"\"\n",
    "    data['rsi'] = TA.RSI(data,14)\n",
    "    return data\n",
    "\n"
   ],
   "metadata": {
    "collapsed": false,
    "ExecuteTime": {
     "end_time": "2024-04-08T06:07:05.839360Z",
     "start_time": "2024-04-08T06:07:05.834753Z"
    }
   },
   "id": "db5cb2ad68d42fa8",
   "execution_count": 3
  },
  {
   "cell_type": "markdown",
   "source": [
    "RSI"
   ],
   "metadata": {
    "collapsed": false
   },
   "id": "4c61b8fd8b31c21b"
  },
  {
   "cell_type": "code",
   "outputs": [],
   "source": [
    "def calculate_rsi(prices, n=14):\n",
    "    deltas = np.diff(prices)\n",
    "    seed = deltas[:n + 1]\n",
    "    up = seed[seed >= 0].sum() / n\n",
    "    down = -seed[seed < 0].sum() / n\n",
    "    rs = up / down\n",
    "    rsi = [np.nan] * (n - 1) + [100. - 100. / (1. + rs)]\n",
    "\n",
    "    for i in range(n, len(prices)):\n",
    "        delta = deltas[i - 1]  # Cambio actual\n",
    "        if delta > 0:\n",
    "            upval = delta\n",
    "            downval = 0.\n",
    "        else:\n",
    "            upval = 0.\n",
    "            downval = -delta\n",
    "        up = (up * (n - 1) + upval) / n\n",
    "        down = (down * (n - 1) + downval) / n\n",
    "        rs = up / down\n",
    "        rsi.append(100. - 100. / (1. + rs))\n",
    "\n",
    "    return rsi"
   ],
   "metadata": {
    "collapsed": false,
    "ExecuteTime": {
     "end_time": "2024-04-08T06:07:10.072123Z",
     "start_time": "2024-04-08T06:07:10.066365Z"
    }
   },
   "id": "e0c3aefe5b6e7ef0",
   "execution_count": 4
  },
  {
   "cell_type": "code",
   "outputs": [
    {
     "name": "stderr",
     "output_type": "stream",
     "text": [
      "[*********************100%%**********************]  1 of 1 completed\n"
     ]
    },
    {
     "data": {
      "text/plain": "                  Open        High         Low       Close   Adj Close  \\\nDate                                                                     \n2013-01-02   17.918339   18.107130   17.846855   18.013729   18.013729   \n2013-01-03   18.055573   18.229919   17.950716   18.024191   18.024191   \n2013-01-04   18.165413   18.467529   18.124067   18.380356   18.380356   \n2013-01-07   18.317591   18.415474   18.196297   18.300158   18.300158   \n2013-01-08   18.319834   18.338762   18.043119   18.264042   18.264042   \n...                ...         ...         ...         ...         ...   \n2023-12-22  142.130005  143.250000  142.054993  142.720001  142.720001   \n2023-12-26  142.979996  143.945007  142.500000  142.820007  142.820007   \n2023-12-27  142.830002  143.320007  141.050995  141.440002  141.440002   \n2023-12-28  141.850006  142.270004  140.828003  141.279999  141.279999   \n2023-12-29  140.679993  141.434998  139.899994  140.929993  140.929993   \n\n               Volume        rsi      macd  macd_signal      bb_bbm  \\\nDate                                                                  \n2013-01-02  102033017  63.613447  0.175738     0.174752   17.551662   \n2013-01-03   93075567  63.806858  0.191381     0.178078   17.592310   \n2013-01-04  110954331  69.709819  0.229868     0.188436   17.654763   \n2013-01-07   66476239  67.057713  0.251004     0.200950   17.709085   \n2013-01-08   67295297  65.842868  0.261822     0.213124   17.770218   \n...               ...        ...       ...          ...         ...   \n2023-12-22   18494700  64.953258  1.421675     0.575959  135.933500   \n2023-12-26   11170100  65.115855  1.718241     0.804416  136.172000   \n2023-12-27   17288400  60.916000  1.820926     1.007718  136.313000   \n2023-12-28   12192500  60.429335  1.867862     1.179747  136.557001   \n2023-12-29   14872700  59.313041  1.855428     1.314883  136.907500   \n\n                bb_bbu      bb_bbl  bb_width           obv  \nDate                                                        \n2013-01-02   18.196378   16.906946  0.073465  4.470655e+08  \n2013-01-03   18.249053   16.935567  0.074663  5.401410e+08  \n2013-01-04   18.362494   16.947032  0.080175  6.510953e+08  \n2013-01-07   18.440659   16.977510  0.082621  5.846191e+08  \n2013-01-08   18.470534   17.069902  0.078819  5.173238e+08  \n...                ...         ...       ...           ...  \n2023-12-22  142.641226  129.225774  0.098691  3.806940e+09  \n2023-12-26  143.506508  128.837492  0.107724  3.818110e+09  \n2023-12-27  143.947932  128.678069  0.112021  3.800822e+09  \n2023-12-28  144.508970  128.605031  0.116464  3.788629e+09  \n2023-12-29  144.987012  128.827989  0.118029  3.773756e+09  \n\n[2768 rows x 14 columns]",
      "text/html": "<div>\n<style scoped>\n    .dataframe tbody tr th:only-of-type {\n        vertical-align: middle;\n    }\n\n    .dataframe tbody tr th {\n        vertical-align: top;\n    }\n\n    .dataframe thead th {\n        text-align: right;\n    }\n</style>\n<table border=\"1\" class=\"dataframe\">\n  <thead>\n    <tr style=\"text-align: right;\">\n      <th></th>\n      <th>Open</th>\n      <th>High</th>\n      <th>Low</th>\n      <th>Close</th>\n      <th>Adj Close</th>\n      <th>Volume</th>\n      <th>rsi</th>\n      <th>macd</th>\n      <th>macd_signal</th>\n      <th>bb_bbm</th>\n      <th>bb_bbu</th>\n      <th>bb_bbl</th>\n      <th>bb_width</th>\n      <th>obv</th>\n    </tr>\n    <tr>\n      <th>Date</th>\n      <th></th>\n      <th></th>\n      <th></th>\n      <th></th>\n      <th></th>\n      <th></th>\n      <th></th>\n      <th></th>\n      <th></th>\n      <th></th>\n      <th></th>\n      <th></th>\n      <th></th>\n      <th></th>\n    </tr>\n  </thead>\n  <tbody>\n    <tr>\n      <th>2013-01-02</th>\n      <td>17.918339</td>\n      <td>18.107130</td>\n      <td>17.846855</td>\n      <td>18.013729</td>\n      <td>18.013729</td>\n      <td>102033017</td>\n      <td>63.613447</td>\n      <td>0.175738</td>\n      <td>0.174752</td>\n      <td>17.551662</td>\n      <td>18.196378</td>\n      <td>16.906946</td>\n      <td>0.073465</td>\n      <td>4.470655e+08</td>\n    </tr>\n    <tr>\n      <th>2013-01-03</th>\n      <td>18.055573</td>\n      <td>18.229919</td>\n      <td>17.950716</td>\n      <td>18.024191</td>\n      <td>18.024191</td>\n      <td>93075567</td>\n      <td>63.806858</td>\n      <td>0.191381</td>\n      <td>0.178078</td>\n      <td>17.592310</td>\n      <td>18.249053</td>\n      <td>16.935567</td>\n      <td>0.074663</td>\n      <td>5.401410e+08</td>\n    </tr>\n    <tr>\n      <th>2013-01-04</th>\n      <td>18.165413</td>\n      <td>18.467529</td>\n      <td>18.124067</td>\n      <td>18.380356</td>\n      <td>18.380356</td>\n      <td>110954331</td>\n      <td>69.709819</td>\n      <td>0.229868</td>\n      <td>0.188436</td>\n      <td>17.654763</td>\n      <td>18.362494</td>\n      <td>16.947032</td>\n      <td>0.080175</td>\n      <td>6.510953e+08</td>\n    </tr>\n    <tr>\n      <th>2013-01-07</th>\n      <td>18.317591</td>\n      <td>18.415474</td>\n      <td>18.196297</td>\n      <td>18.300158</td>\n      <td>18.300158</td>\n      <td>66476239</td>\n      <td>67.057713</td>\n      <td>0.251004</td>\n      <td>0.200950</td>\n      <td>17.709085</td>\n      <td>18.440659</td>\n      <td>16.977510</td>\n      <td>0.082621</td>\n      <td>5.846191e+08</td>\n    </tr>\n    <tr>\n      <th>2013-01-08</th>\n      <td>18.319834</td>\n      <td>18.338762</td>\n      <td>18.043119</td>\n      <td>18.264042</td>\n      <td>18.264042</td>\n      <td>67295297</td>\n      <td>65.842868</td>\n      <td>0.261822</td>\n      <td>0.213124</td>\n      <td>17.770218</td>\n      <td>18.470534</td>\n      <td>17.069902</td>\n      <td>0.078819</td>\n      <td>5.173238e+08</td>\n    </tr>\n    <tr>\n      <th>...</th>\n      <td>...</td>\n      <td>...</td>\n      <td>...</td>\n      <td>...</td>\n      <td>...</td>\n      <td>...</td>\n      <td>...</td>\n      <td>...</td>\n      <td>...</td>\n      <td>...</td>\n      <td>...</td>\n      <td>...</td>\n      <td>...</td>\n      <td>...</td>\n    </tr>\n    <tr>\n      <th>2023-12-22</th>\n      <td>142.130005</td>\n      <td>143.250000</td>\n      <td>142.054993</td>\n      <td>142.720001</td>\n      <td>142.720001</td>\n      <td>18494700</td>\n      <td>64.953258</td>\n      <td>1.421675</td>\n      <td>0.575959</td>\n      <td>135.933500</td>\n      <td>142.641226</td>\n      <td>129.225774</td>\n      <td>0.098691</td>\n      <td>3.806940e+09</td>\n    </tr>\n    <tr>\n      <th>2023-12-26</th>\n      <td>142.979996</td>\n      <td>143.945007</td>\n      <td>142.500000</td>\n      <td>142.820007</td>\n      <td>142.820007</td>\n      <td>11170100</td>\n      <td>65.115855</td>\n      <td>1.718241</td>\n      <td>0.804416</td>\n      <td>136.172000</td>\n      <td>143.506508</td>\n      <td>128.837492</td>\n      <td>0.107724</td>\n      <td>3.818110e+09</td>\n    </tr>\n    <tr>\n      <th>2023-12-27</th>\n      <td>142.830002</td>\n      <td>143.320007</td>\n      <td>141.050995</td>\n      <td>141.440002</td>\n      <td>141.440002</td>\n      <td>17288400</td>\n      <td>60.916000</td>\n      <td>1.820926</td>\n      <td>1.007718</td>\n      <td>136.313000</td>\n      <td>143.947932</td>\n      <td>128.678069</td>\n      <td>0.112021</td>\n      <td>3.800822e+09</td>\n    </tr>\n    <tr>\n      <th>2023-12-28</th>\n      <td>141.850006</td>\n      <td>142.270004</td>\n      <td>140.828003</td>\n      <td>141.279999</td>\n      <td>141.279999</td>\n      <td>12192500</td>\n      <td>60.429335</td>\n      <td>1.867862</td>\n      <td>1.179747</td>\n      <td>136.557001</td>\n      <td>144.508970</td>\n      <td>128.605031</td>\n      <td>0.116464</td>\n      <td>3.788629e+09</td>\n    </tr>\n    <tr>\n      <th>2023-12-29</th>\n      <td>140.679993</td>\n      <td>141.434998</td>\n      <td>139.899994</td>\n      <td>140.929993</td>\n      <td>140.929993</td>\n      <td>14872700</td>\n      <td>59.313041</td>\n      <td>1.855428</td>\n      <td>1.314883</td>\n      <td>136.907500</td>\n      <td>144.987012</td>\n      <td>128.827989</td>\n      <td>0.118029</td>\n      <td>3.773756e+09</td>\n    </tr>\n  </tbody>\n</table>\n<p>2768 rows × 14 columns</p>\n</div>"
     },
     "execution_count": 28,
     "metadata": {},
     "output_type": "execute_result"
    }
   ],
   "source": [
    "import yfinance as yf\n",
    "import numpy as np\n",
    "\n",
    "\n",
    "data = yf.download('GOOG', start='2010-01-01', end= '2024-01-01',interval=\"1d\")\n",
    "prices = np.array(data['Adj Close'].values) #Adj Close prices\n",
    "dates = np.array(data.index.values).astype('datetime64[ns]') #Dates\n",
    "data['rsi'] = TA.RSI(data,14,column='adj close') #Relative Strength Index (RSI)\n",
    "data['macd'] = TA.MACD(data,column='adj close')['MACD'] #MACD Line\n",
    "data['macd_signal'] = TA.MACD(data, column='adj close')['SIGNAL'] #MACD Signal Line\n",
    "data['bb_bbm'] = TA.BBANDS(data, column='adj close')['BB_MIDDLE'] #Bollinger Bands (BB) middle band (BBM)\n",
    "data['bb_bbu'] = TA.BBANDS(data, column='adj close')['BB_UPPER'] #Bollinger Bands (BB) upper band (BBU)\n",
    "data['bb_bbl'] = TA.BBANDS(data,column='adj close')['BB_LOWER'] #Bollinger Bands (BB) lower band (BBL)\n",
    "data['bb_width'] = TA.BBWIDTH(data,column='adj close') #Bollinger Bands (BB) width\n",
    "data['obv'] = TA.OBV(data,'adj close') #On Balance Volume (OBV)\n",
    "\n",
    "data.fillna(0, inplace=True)\n",
    "data = data[data.index > '2013-01-01']\n",
    "data"
   ],
   "metadata": {
    "collapsed": false,
    "ExecuteTime": {
     "end_time": "2024-04-08T06:52:58.361493Z",
     "start_time": "2024-04-08T06:52:58.182143Z"
    }
   },
   "id": "b28d72a1a8c1956d",
   "execution_count": 28
  },
  {
   "cell_type": "markdown",
   "source": [
    "## Enviroment"
   ],
   "metadata": {
    "collapsed": false
   },
   "id": "29948330e9554f1f"
  },
  {
   "cell_type": "code",
   "outputs": [],
   "source": [
    "def add_signals(env):\n",
    "    start = env.frame_bound[0] - env.window_size\n",
    "    end = env.frame_bound[1]\n",
    "    prices = env.df.loc[:, 'Adj Close'].to_numpy()[start:end]\n",
    "    signal_features = env.df.loc[:,['rsi','Volume','macd','macd_signal','bb_bbm','bb_bbu','bb_bbl','bb_width','obv']].to_numpy()[start:end]\n",
    "    return prices, signal_features\n",
    "\n",
    "# def reward_function(env,action):\n",
    "#     pass\n"
   ],
   "metadata": {
    "collapsed": false,
    "ExecuteTime": {
     "end_time": "2024-04-08T07:48:01.333827Z",
     "start_time": "2024-04-08T07:48:01.324021Z"
    }
   },
   "id": "ef126a3fef2e014b",
   "execution_count": 109
  },
  {
   "cell_type": "code",
   "outputs": [],
   "source": [
    "class customEnv(StocksEnv):\n",
    "    \"\"\"\n",
    "    Custom Environment for RL trading\n",
    "    \"\"\"\n",
    "    _process_data = add_signals\n",
    "    position_type=\"long\"\n",
    "\n",
    "    # _calculate_reward = reward_function\n",
    "env = customEnv(df=data, window_size=14, frame_bound=(14,100))\n",
    "    "
   ],
   "metadata": {
    "collapsed": false,
    "ExecuteTime": {
     "end_time": "2024-04-08T07:58:56.904790Z",
     "start_time": "2024-04-08T07:58:56.900043Z"
    }
   },
   "id": "d4ea84ef234a5f4a",
   "execution_count": 117
  },
  {
   "cell_type": "code",
   "outputs": [
    {
     "data": {
      "text/plain": "Discrete(2)"
     },
     "execution_count": 118,
     "metadata": {},
     "output_type": "execute_result"
    }
   ],
   "source": [
    "env.action_space"
   ],
   "metadata": {
    "collapsed": false,
    "ExecuteTime": {
     "end_time": "2024-04-08T07:58:57.636738Z",
     "start_time": "2024-04-08T07:58:57.628614Z"
    }
   },
   "id": "4a2e57f88f633aa7",
   "execution_count": 118
  },
  {
   "cell_type": "markdown",
   "source": [
    "train"
   ],
   "metadata": {
    "collapsed": false
   },
   "id": "996648e2a345f8d4"
  },
  {
   "cell_type": "code",
   "outputs": [],
   "source": [
    "from stable_baselines3.common.vec_env import DummyVecEnv\n",
    "import os\n",
    "os.environ['TF_CPP_MIN_LOG_LEVEL'] = '2'\n",
    "import tensorflow as tf\n",
    "\n",
    "\n",
    "env_maker = lambda: env\n",
    "env_train = DummyVecEnv([env_maker])"
   ],
   "metadata": {
    "collapsed": false,
    "ExecuteTime": {
     "end_time": "2024-04-08T07:59:00.803873Z",
     "start_time": "2024-04-08T07:59:00.797937Z"
    }
   },
   "id": "d47a103bc94a0a7a",
   "execution_count": 119
  },
  {
   "cell_type": "code",
   "outputs": [
    {
     "name": "stdout",
     "output_type": "stream",
     "text": [
      "Using cuda device\n",
      "------------------------------------\n",
      "| time/                 |          |\n",
      "|    fps                | 199      |\n",
      "|    iterations         | 100      |\n",
      "|    time_elapsed       | 2        |\n",
      "|    total_timesteps    | 500      |\n",
      "| train/                |          |\n",
      "|    entropy_loss       | -0.69    |\n",
      "|    explained_variance | 0.115    |\n",
      "|    learning_rate      | 0.0007   |\n",
      "|    n_updates          | 99       |\n",
      "|    policy_loss        | 0.0751   |\n",
      "|    value_loss         | 0.0495   |\n",
      "------------------------------------\n",
      "------------------------------------\n",
      "| time/                 |          |\n",
      "|    fps                | 209      |\n",
      "|    iterations         | 200      |\n",
      "|    time_elapsed       | 4        |\n",
      "|    total_timesteps    | 1000     |\n",
      "| train/                |          |\n",
      "|    entropy_loss       | -0.663   |\n",
      "|    explained_variance | 0.15     |\n",
      "|    learning_rate      | 0.0007   |\n",
      "|    n_updates          | 199      |\n",
      "|    policy_loss        | -0.249   |\n",
      "|    value_loss         | 0.171    |\n",
      "------------------------------------\n",
      "------------------------------------\n",
      "| time/                 |          |\n",
      "|    fps                | 217      |\n",
      "|    iterations         | 300      |\n",
      "|    time_elapsed       | 6        |\n",
      "|    total_timesteps    | 1500     |\n",
      "| train/                |          |\n",
      "|    entropy_loss       | -0.631   |\n",
      "|    explained_variance | -13.4    |\n",
      "|    learning_rate      | 0.0007   |\n",
      "|    n_updates          | 299      |\n",
      "|    policy_loss        | -0.062   |\n",
      "|    value_loss         | 0.0319   |\n",
      "------------------------------------\n",
      "------------------------------------\n",
      "| time/                 |          |\n",
      "|    fps                | 212      |\n",
      "|    iterations         | 400      |\n",
      "|    time_elapsed       | 9        |\n",
      "|    total_timesteps    | 2000     |\n",
      "| train/                |          |\n",
      "|    entropy_loss       | -0.662   |\n",
      "|    explained_variance | -10.2    |\n",
      "|    learning_rate      | 0.0007   |\n",
      "|    n_updates          | 399      |\n",
      "|    policy_loss        | -0.0162  |\n",
      "|    value_loss         | 0.00467  |\n",
      "------------------------------------\n",
      "------------------------------------\n",
      "| time/                 |          |\n",
      "|    fps                | 208      |\n",
      "|    iterations         | 500      |\n",
      "|    time_elapsed       | 11       |\n",
      "|    total_timesteps    | 2500     |\n",
      "| train/                |          |\n",
      "|    entropy_loss       | -0.671   |\n",
      "|    explained_variance | 0.747    |\n",
      "|    learning_rate      | 0.0007   |\n",
      "|    n_updates          | 499      |\n",
      "|    policy_loss        | -0.094   |\n",
      "|    value_loss         | 0.0194   |\n",
      "------------------------------------\n",
      "------------------------------------\n",
      "| time/                 |          |\n",
      "|    fps                | 201      |\n",
      "|    iterations         | 600      |\n",
      "|    time_elapsed       | 14       |\n",
      "|    total_timesteps    | 3000     |\n",
      "| train/                |          |\n",
      "|    entropy_loss       | -0.557   |\n",
      "|    explained_variance | -13      |\n",
      "|    learning_rate      | 0.0007   |\n",
      "|    n_updates          | 599      |\n",
      "|    policy_loss        | -0.0218  |\n",
      "|    value_loss         | 0.00747  |\n",
      "------------------------------------\n",
      "------------------------------------\n",
      "| time/                 |          |\n",
      "|    fps                | 202      |\n",
      "|    iterations         | 700      |\n",
      "|    time_elapsed       | 17       |\n",
      "|    total_timesteps    | 3500     |\n",
      "| train/                |          |\n",
      "|    entropy_loss       | -0.602   |\n",
      "|    explained_variance | -6.06    |\n",
      "|    learning_rate      | 0.0007   |\n",
      "|    n_updates          | 699      |\n",
      "|    policy_loss        | 0.0349   |\n",
      "|    value_loss         | 0.0142   |\n",
      "------------------------------------\n",
      "------------------------------------\n",
      "| time/                 |          |\n",
      "|    fps                | 204      |\n",
      "|    iterations         | 800      |\n",
      "|    time_elapsed       | 19       |\n",
      "|    total_timesteps    | 4000     |\n",
      "| train/                |          |\n",
      "|    entropy_loss       | -0.576   |\n",
      "|    explained_variance | 0.193    |\n",
      "|    learning_rate      | 0.0007   |\n",
      "|    n_updates          | 799      |\n",
      "|    policy_loss        | 0.17     |\n",
      "|    value_loss         | 0.133    |\n",
      "------------------------------------\n",
      "------------------------------------\n",
      "| time/                 |          |\n",
      "|    fps                | 206      |\n",
      "|    iterations         | 900      |\n",
      "|    time_elapsed       | 21       |\n",
      "|    total_timesteps    | 4500     |\n",
      "| train/                |          |\n",
      "|    entropy_loss       | -0.662   |\n",
      "|    explained_variance | 0.129    |\n",
      "|    learning_rate      | 0.0007   |\n",
      "|    n_updates          | 899      |\n",
      "|    policy_loss        | 0.196    |\n",
      "|    value_loss         | 0.21     |\n",
      "------------------------------------\n",
      "------------------------------------\n",
      "| time/                 |          |\n",
      "|    fps                | 206      |\n",
      "|    iterations         | 1000     |\n",
      "|    time_elapsed       | 24       |\n",
      "|    total_timesteps    | 5000     |\n",
      "| train/                |          |\n",
      "|    entropy_loss       | -0.62    |\n",
      "|    explained_variance | -1.02    |\n",
      "|    learning_rate      | 0.0007   |\n",
      "|    n_updates          | 999      |\n",
      "|    policy_loss        | 0.0506   |\n",
      "|    value_loss         | 0.0492   |\n",
      "------------------------------------\n"
     ]
    },
    {
     "data": {
      "text/plain": "<stable_baselines3.a2c.a2c.A2C at 0x731f840a8bb0>"
     },
     "execution_count": 120,
     "metadata": {},
     "output_type": "execute_result"
    }
   ],
   "source": [
    "from stable_baselines3 import A2C\n",
    "\n",
    "model = A2C('MlpPolicy', env_train, verbose=1)\n",
    "model.learn(total_timesteps=5000)"
   ],
   "metadata": {
    "collapsed": false,
    "ExecuteTime": {
     "end_time": "2024-04-08T07:59:25.698779Z",
     "start_time": "2024-04-08T07:59:01.387787Z"
    }
   },
   "id": "7ab823a0bfd15f88",
   "execution_count": 120
  },
  {
   "cell_type": "markdown",
   "source": [
    "Evaluation"
   ],
   "metadata": {
    "collapsed": false
   },
   "id": "39b34dbe4dbeaf7a"
  },
  {
   "cell_type": "code",
   "outputs": [
    {
     "name": "stderr",
     "output_type": "stream",
     "text": [
      "[*********************100%%**********************]  1 of 1 completed\n"
     ]
    },
    {
     "data": {
      "text/plain": "                  Open        High         Low       Close   Adj Close  \\\nDate                                                                     \n2013-01-02   13.601429   13.687143   12.955714   13.144286   13.144286   \n2013-01-03   13.138571   13.988571   13.075714   13.798571   13.798571   \n2013-01-04   13.791429   13.958571   13.648571   13.711429   13.711429   \n2013-01-07   13.770000   14.535714   13.731429   14.171429   14.171429   \n2013-01-08   14.287143   14.427143   13.828571   13.880000   13.880000   \n...                ...         ...         ...         ...         ...   \n2023-12-22  494.000000  496.019989  485.450012  486.760010  486.760010   \n2023-12-26  489.390015  491.480011  486.380005  491.190002  491.190002   \n2023-12-27  491.239990  494.019989  489.250000  491.790009  491.790009   \n2023-12-28  492.000000  492.890015  489.070007  490.510010  490.510010   \n2023-12-29  490.369995  492.230011  481.940002  486.880005  486.880005   \n\n              Volume        rsi       macd  macd_signal      bb_bbm  \\\nDate                                                                  \n2013-01-02  19431300  59.786015   0.409583     0.493112   12.886500   \n2013-01-03  27912500  66.916605   0.443505     0.483191   12.957500   \n2013-01-04  17761100  65.256939   0.458076     0.478168   13.047571   \n2013-01-07  45550400  69.550191   0.500967     0.482728   13.140643   \n2013-01-08  24714900  64.142371   0.505614     0.487305   13.220500   \n...              ...        ...        ...          ...         ...   \n2023-12-22   2701100  62.629263  11.455084    10.464237  471.507500   \n2023-12-26   2034500  64.613544  11.575034    10.686397  472.108499   \n2023-12-27   2561300  64.885498  11.584966    10.866111  472.748000   \n2023-12-28   1710500  63.759744  11.358617    10.964612  473.414000   \n2023-12-29   2739500  60.551250  10.762262    10.924142  474.059500   \n\n                bb_bbu      bb_bbl  bb_width           obv  \nDate                                                        \n2013-01-02   13.904607   11.868393  0.158011 -1.938482e+08  \n2013-01-03   14.023396   11.891604  0.164522 -1.659357e+08  \n2013-01-04   14.042879   12.052264  0.152566 -1.836968e+08  \n2013-01-07   14.192091   12.089195  0.160030 -1.381464e+08  \n2013-01-08   14.239750   12.201250  0.154192 -1.628613e+08  \n...                ...         ...       ...           ...  \n2023-12-22  500.795062  442.219937  0.124229  1.029577e+09  \n2023-12-26  502.529506  441.687492  0.128873  1.031611e+09  \n2023-12-27  504.295854  441.200145  0.133466  1.034172e+09  \n2023-12-28  505.904987  440.923012  0.137262  1.032462e+09  \n2023-12-29  507.105229  441.013771  0.139416  1.029722e+09  \n\n[2768 rows x 14 columns]",
      "text/html": "<div>\n<style scoped>\n    .dataframe tbody tr th:only-of-type {\n        vertical-align: middle;\n    }\n\n    .dataframe tbody tr th {\n        vertical-align: top;\n    }\n\n    .dataframe thead th {\n        text-align: right;\n    }\n</style>\n<table border=\"1\" class=\"dataframe\">\n  <thead>\n    <tr style=\"text-align: right;\">\n      <th></th>\n      <th>Open</th>\n      <th>High</th>\n      <th>Low</th>\n      <th>Close</th>\n      <th>Adj Close</th>\n      <th>Volume</th>\n      <th>rsi</th>\n      <th>macd</th>\n      <th>macd_signal</th>\n      <th>bb_bbm</th>\n      <th>bb_bbu</th>\n      <th>bb_bbl</th>\n      <th>bb_width</th>\n      <th>obv</th>\n    </tr>\n    <tr>\n      <th>Date</th>\n      <th></th>\n      <th></th>\n      <th></th>\n      <th></th>\n      <th></th>\n      <th></th>\n      <th></th>\n      <th></th>\n      <th></th>\n      <th></th>\n      <th></th>\n      <th></th>\n      <th></th>\n      <th></th>\n    </tr>\n  </thead>\n  <tbody>\n    <tr>\n      <th>2013-01-02</th>\n      <td>13.601429</td>\n      <td>13.687143</td>\n      <td>12.955714</td>\n      <td>13.144286</td>\n      <td>13.144286</td>\n      <td>19431300</td>\n      <td>59.786015</td>\n      <td>0.409583</td>\n      <td>0.493112</td>\n      <td>12.886500</td>\n      <td>13.904607</td>\n      <td>11.868393</td>\n      <td>0.158011</td>\n      <td>-1.938482e+08</td>\n    </tr>\n    <tr>\n      <th>2013-01-03</th>\n      <td>13.138571</td>\n      <td>13.988571</td>\n      <td>13.075714</td>\n      <td>13.798571</td>\n      <td>13.798571</td>\n      <td>27912500</td>\n      <td>66.916605</td>\n      <td>0.443505</td>\n      <td>0.483191</td>\n      <td>12.957500</td>\n      <td>14.023396</td>\n      <td>11.891604</td>\n      <td>0.164522</td>\n      <td>-1.659357e+08</td>\n    </tr>\n    <tr>\n      <th>2013-01-04</th>\n      <td>13.791429</td>\n      <td>13.958571</td>\n      <td>13.648571</td>\n      <td>13.711429</td>\n      <td>13.711429</td>\n      <td>17761100</td>\n      <td>65.256939</td>\n      <td>0.458076</td>\n      <td>0.478168</td>\n      <td>13.047571</td>\n      <td>14.042879</td>\n      <td>12.052264</td>\n      <td>0.152566</td>\n      <td>-1.836968e+08</td>\n    </tr>\n    <tr>\n      <th>2013-01-07</th>\n      <td>13.770000</td>\n      <td>14.535714</td>\n      <td>13.731429</td>\n      <td>14.171429</td>\n      <td>14.171429</td>\n      <td>45550400</td>\n      <td>69.550191</td>\n      <td>0.500967</td>\n      <td>0.482728</td>\n      <td>13.140643</td>\n      <td>14.192091</td>\n      <td>12.089195</td>\n      <td>0.160030</td>\n      <td>-1.381464e+08</td>\n    </tr>\n    <tr>\n      <th>2013-01-08</th>\n      <td>14.287143</td>\n      <td>14.427143</td>\n      <td>13.828571</td>\n      <td>13.880000</td>\n      <td>13.880000</td>\n      <td>24714900</td>\n      <td>64.142371</td>\n      <td>0.505614</td>\n      <td>0.487305</td>\n      <td>13.220500</td>\n      <td>14.239750</td>\n      <td>12.201250</td>\n      <td>0.154192</td>\n      <td>-1.628613e+08</td>\n    </tr>\n    <tr>\n      <th>...</th>\n      <td>...</td>\n      <td>...</td>\n      <td>...</td>\n      <td>...</td>\n      <td>...</td>\n      <td>...</td>\n      <td>...</td>\n      <td>...</td>\n      <td>...</td>\n      <td>...</td>\n      <td>...</td>\n      <td>...</td>\n      <td>...</td>\n      <td>...</td>\n    </tr>\n    <tr>\n      <th>2023-12-22</th>\n      <td>494.000000</td>\n      <td>496.019989</td>\n      <td>485.450012</td>\n      <td>486.760010</td>\n      <td>486.760010</td>\n      <td>2701100</td>\n      <td>62.629263</td>\n      <td>11.455084</td>\n      <td>10.464237</td>\n      <td>471.507500</td>\n      <td>500.795062</td>\n      <td>442.219937</td>\n      <td>0.124229</td>\n      <td>1.029577e+09</td>\n    </tr>\n    <tr>\n      <th>2023-12-26</th>\n      <td>489.390015</td>\n      <td>491.480011</td>\n      <td>486.380005</td>\n      <td>491.190002</td>\n      <td>491.190002</td>\n      <td>2034500</td>\n      <td>64.613544</td>\n      <td>11.575034</td>\n      <td>10.686397</td>\n      <td>472.108499</td>\n      <td>502.529506</td>\n      <td>441.687492</td>\n      <td>0.128873</td>\n      <td>1.031611e+09</td>\n    </tr>\n    <tr>\n      <th>2023-12-27</th>\n      <td>491.239990</td>\n      <td>494.019989</td>\n      <td>489.250000</td>\n      <td>491.790009</td>\n      <td>491.790009</td>\n      <td>2561300</td>\n      <td>64.885498</td>\n      <td>11.584966</td>\n      <td>10.866111</td>\n      <td>472.748000</td>\n      <td>504.295854</td>\n      <td>441.200145</td>\n      <td>0.133466</td>\n      <td>1.034172e+09</td>\n    </tr>\n    <tr>\n      <th>2023-12-28</th>\n      <td>492.000000</td>\n      <td>492.890015</td>\n      <td>489.070007</td>\n      <td>490.510010</td>\n      <td>490.510010</td>\n      <td>1710500</td>\n      <td>63.759744</td>\n      <td>11.358617</td>\n      <td>10.964612</td>\n      <td>473.414000</td>\n      <td>505.904987</td>\n      <td>440.923012</td>\n      <td>0.137262</td>\n      <td>1.032462e+09</td>\n    </tr>\n    <tr>\n      <th>2023-12-29</th>\n      <td>490.369995</td>\n      <td>492.230011</td>\n      <td>481.940002</td>\n      <td>486.880005</td>\n      <td>486.880005</td>\n      <td>2739500</td>\n      <td>60.551250</td>\n      <td>10.762262</td>\n      <td>10.924142</td>\n      <td>474.059500</td>\n      <td>507.105229</td>\n      <td>441.013771</td>\n      <td>0.139416</td>\n      <td>1.029722e+09</td>\n    </tr>\n  </tbody>\n</table>\n<p>2768 rows × 14 columns</p>\n</div>"
     },
     "execution_count": 251,
     "metadata": {},
     "output_type": "execute_result"
    }
   ],
   "source": [
    "\n",
    "data = yf.download('NFLX', start='2010-01-01', end= '2024-01-01',interval=\"1d\")\n",
    "prices = np.array(data['Adj Close'].values) #Adj Close prices\n",
    "dates = np.array(data.index.values).astype('datetime64[ns]') #Dates\n",
    "data['rsi'] = TA.RSI(data,14,column='adj close') #Relative Strength Index (RSI)\n",
    "data['macd'] = TA.MACD(data,column='adj close')['MACD'] #MACD Line\n",
    "data['macd_signal'] = TA.MACD(data, column='adj close')['SIGNAL'] #MACD Signal Line\n",
    "data['bb_bbm'] = TA.BBANDS(data, column='adj close')['BB_MIDDLE'] #Bollinger Bands (BB) middle band (BBM)\n",
    "data['bb_bbu'] = TA.BBANDS(data, column='adj close')['BB_UPPER'] #Bollinger Bands (BB) upper band (BBU)\n",
    "data['bb_bbl'] = TA.BBANDS(data,column='adj close')['BB_LOWER'] #Bollinger Bands (BB) lower band (BBL)\n",
    "data['bb_width'] = TA.BBWIDTH(data,column='adj close') #Bollinger Bands (BB) width\n",
    "data['obv'] = TA.OBV(data,'adj close') #On Balance Volume (OBV)\n",
    "\n",
    "data.fillna(0, inplace=True)\n",
    "data = data[data.index > '2013-01-01']\n",
    "data"
   ],
   "metadata": {
    "collapsed": false,
    "ExecuteTime": {
     "end_time": "2024-04-08T09:41:31.254776Z",
     "start_time": "2024-04-08T09:41:30.153366Z"
    }
   },
   "id": "2b31ada5b219068b",
   "execution_count": 251
  },
  {
   "cell_type": "code",
   "outputs": [
    {
     "name": "stdout",
     "output_type": "stream",
     "text": [
      "info {'total_reward': 37.26427459716797, 'total_profit': 0.9103132452786629, 'position': <Positions.Long: 1>}\n"
     ]
    }
   ],
   "source": [
    "from gym_anytrading.envs import Actions\n",
    "\n",
    "env_test = customEnv(df=data, window_size=14, frame_bound=(15, 300))\n",
    "obs,_ = env_test.reset(seed=42)\n",
    "r= []\n",
    "action_stats = {Actions.Sell: 0, Actions.Buy: 0}\n",
    "buy_rsi = []\n",
    "sell_rsi = []\n",
    "lt=0\n",
    "while True:\n",
    "    actual_lt= env_test._last_trade_tick\n",
    "    obs = obs[np.newaxis, ...] \n",
    "    action, _states = model.predict(obs)\n",
    "    # print(env_test._last_trade_tick)\n",
    "    # break\n",
    "    # print('skipped',action)\n",
    "    if lt!=actual_lt:\n",
    "        # print(action,\"Last trade tick:\",actual_lt)\n",
    "        lt=actual_lt\n",
    "        \n",
    "        # print(action)\n",
    "    action_stats[Actions(action)] += 1\n",
    "    if action == 0:\n",
    "        # print(\"Sell\")\n",
    "        # sell_rsi.append()\n",
    "        sell_rsi.append(env_test.signal_features[env_test._last_trade_tick][0])\n",
    "\n",
    "        pass\n",
    "    elif action == 1:\n",
    "        # print(\"Buy\")\n",
    "        buy_rsi.append(env_test.signal_features[env_test._last_trade_tick][0])\n",
    "    # else:\n",
    "        # print('??')\n",
    "    # print(rewards)\n",
    "    obs, rewards,_ , done, info= env_test.step(action)\n",
    "\n",
    "    r.append(rewards)\n",
    "    if done:\n",
    "        print(\"info\",info)\n",
    "        break"
   ],
   "metadata": {
    "collapsed": false,
    "ExecuteTime": {
     "end_time": "2024-04-08T09:42:31.500829Z",
     "start_time": "2024-04-08T09:42:31.277013Z"
    }
   },
   "id": "cba5553d42041bf1",
   "execution_count": 258
  },
  {
   "cell_type": "code",
   "outputs": [
    {
     "data": {
      "text/plain": "array([5.43242917e+01, 1.21345000e+07, 1.50980314e+00, 2.06492676e+00,\n       6.31920715e+01, 6.56383015e+01, 6.07458416e+01, 7.74220538e-02,\n       5.14332000e+08])"
     },
     "execution_count": 263,
     "metadata": {},
     "output_type": "execute_result"
    }
   ],
   "source": [
    "env_test.signal_features[env_test._current_tick] #obtener los valores del dia que se va a predecir"
   ],
   "metadata": {
    "collapsed": false,
    "ExecuteTime": {
     "end_time": "2024-04-08T09:46:58.683025Z",
     "start_time": "2024-04-08T09:46:58.679571Z"
    }
   },
   "id": "5cdb4f322a0b1c2d",
   "execution_count": 263
  },
  {
   "cell_type": "code",
   "outputs": [
    {
     "data": {
      "text/plain": "16.712852478027344"
     },
     "execution_count": 254,
     "metadata": {},
     "output_type": "execute_result"
    }
   ],
   "source": [
    "sum(r)"
   ],
   "metadata": {
    "collapsed": false,
    "ExecuteTime": {
     "end_time": "2024-04-08T09:41:37.965195Z",
     "start_time": "2024-04-08T09:41:37.961888Z"
    }
   },
   "id": "4be9d32cc7f96373",
   "execution_count": 254
  },
  {
   "cell_type": "code",
   "outputs": [
    {
     "name": "stdout",
     "output_type": "stream",
     "text": [
      "env information:\n",
      "> shape: (14, 9)\n",
      "> df.shape: (2768, 14)\n",
      "> prices.shape: (299,)\n",
      "> signal_features.shape: (299, 9)\n",
      "> max_possible_profit: 41.69065663868925\n"
     ]
    }
   ],
   "source": [
    "print(\"env information:\")\n",
    "print(\"> shape:\", env_test.unwrapped.shape)\n",
    "print(\"> df.shape:\", env_test.unwrapped.df.shape)\n",
    "print(\"> prices.shape:\", env_test.unwrapped.prices.shape)\n",
    "print(\"> signal_features.shape:\", env_test.unwrapped.signal_features.shape)\n",
    "print(\"> max_possible_profit:\", env_test.unwrapped.max_possible_profit())\n"
   ],
   "metadata": {
    "collapsed": false,
    "ExecuteTime": {
     "end_time": "2024-04-08T09:41:40.250249Z",
     "start_time": "2024-04-08T09:41:40.246893Z"
    }
   },
   "id": "bf2f10358d794004",
   "execution_count": 255
  },
  {
   "cell_type": "code",
   "outputs": [
    {
     "data": {
      "text/plain": "<Figure size 1500x600 with 1 Axes>",
      "image/png": "[encoded data removed]"
     },
     "metadata": {},
     "output_type": "display_data"
    }
   ],
   "source": [
    "import matplotlib.pyplot as plt\n",
    "plt.figure(figsize=(15,6))\n",
    "plt.cla()\n",
    "env_test.render_all()\n",
    "plt.show()"
   ],
   "metadata": {
    "collapsed": false,
    "ExecuteTime": {
     "end_time": "2024-04-08T09:41:42.263004Z",
     "start_time": "2024-04-08T09:41:42.068647Z"
    }
   },
   "id": "121c1cb2fc07c0b",
   "execution_count": 256
  },
  {
   "cell_type": "markdown",
   "source": [
    "## ELSE"
   ],
   "metadata": {
    "collapsed": false
   },
   "id": "ccd1cc4ef63ea420"
  },
  {
   "cell_type": "code",
   "outputs": [
    {
     "data": {
      "text/plain": "(array([[42.90572383],\n        [41.18560508],\n        [45.41570043],\n        [44.84428623],\n        [41.58389845],\n        [50.6287522 ],\n        [50.53785334],\n        [49.6733183 ],\n        [55.72457154],\n        [58.62552725],\n        [56.61125879],\n        [55.63836965],\n        [54.90352122],\n        [52.71871221]]),\n 0,\n False,\n False,\n {'total_reward': 0.0, 'total_profit': 1.0, 'position': <Positions.Short: 0>})"
     },
     "execution_count": 85,
     "metadata": {},
     "output_type": "execute_result"
    }
   ],
   "source": [
    "env_test.step([2])"
   ],
   "metadata": {
    "collapsed": false,
    "ExecuteTime": {
     "end_time": "2024-04-02T07:55:49.064615Z",
     "start_time": "2024-04-02T07:55:49.054088Z"
    }
   },
   "id": "f3b2cffb0216619b",
   "execution_count": 85
  },
  {
   "cell_type": "code",
   "outputs": [
    {
     "name": "stderr",
     "output_type": "stream",
     "text": [
      "[*********************100%%**********************]  1 of 1 completed\n"
     ]
    }
   ],
   "source": [
    "\n",
    "rsi = calculate_rsi(prices)\n",
    "\n"
   ],
   "metadata": {
    "collapsed": false,
    "ExecuteTime": {
     "end_time": "2024-03-11T19:23:03.720759Z",
     "start_time": "2024-03-11T19:23:02.164249Z"
    }
   },
   "id": "99651413b9e0792d",
   "execution_count": 3
  },
  {
   "cell_type": "markdown",
   "source": [
    "## Enviroment"
   ],
   "metadata": {
    "collapsed": false
   },
   "id": "34d84ddc2af674c2"
  },
  {
   "cell_type": "code",
   "outputs": [],
   "source": [],
   "metadata": {
    "collapsed": false
   },
   "id": "9dd56ff57396362a"
  },
  {
   "cell_type": "markdown",
   "source": [
    "# Vengo al tiro igual"
   ],
   "metadata": {
    "collapsed": false
   },
   "id": "136d083f372fea43"
  }
 ],
 "metadata": {
  "kernelspec": {
   "display_name": "Python 3",
   "language": "python",
   "name": "python3"
  },
  "language_info": {
   "codemirror_mode": {
    "name": "ipython",
    "version": 2
   },
   "file_extension": ".py",
   "mimetype": "text/x-python",
   "name": "python",
   "nbconvert_exporter": "python",
   "pygments_lexer": "ipython2",
   "version": "2.7.6"
  }
 },
 "nbformat": 4,
 "nbformat_minor": 5
}
