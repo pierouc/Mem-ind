{
 "cells": [
  {
   "cell_type": "code",
   "outputs": [],
   "source": [],
   "metadata": {
    "collapsed": false
   },
   "id": "9cbaf813ff9364"
  },
  {
   "cell_type": "code",
   "outputs": [
    {
     "ename": "ImportError",
     "evalue": "cannot import name 'QLearningAgent' from 'stable_baselines3' (/home/pisky/PyCharm enviroments/mem-ind/lib/python3.10/site-packages/stable_baselines3/__init__.py)",
     "output_type": "error",
     "traceback": [
      "\u001B[0;31m---------------------------------------------------------------------------\u001B[0m",
      "\u001B[0;31mImportError\u001B[0m                               Traceback (most recent call last)",
      "Cell \u001B[0;32mIn[2], line 4\u001B[0m\n\u001B[1;32m      2\u001B[0m \u001B[38;5;28;01mimport\u001B[39;00m \u001B[38;5;21;01mpandas\u001B[39;00m \u001B[38;5;28;01mas\u001B[39;00m \u001B[38;5;21;01mpd\u001B[39;00m\n\u001B[1;32m      3\u001B[0m \u001B[38;5;28;01mimport\u001B[39;00m \u001B[38;5;21;01mnumpy\u001B[39;00m \u001B[38;5;28;01mas\u001B[39;00m \u001B[38;5;21;01mnp\u001B[39;00m\n\u001B[0;32m----> 4\u001B[0m \u001B[38;5;28;01mfrom\u001B[39;00m \u001B[38;5;21;01mstable_baselines3\u001B[39;00m \u001B[38;5;28;01mimport\u001B[39;00m QLearningAgent\n",
      "\u001B[0;31mImportError\u001B[0m: cannot import name 'QLearningAgent' from 'stable_baselines3' (/home/pisky/PyCharm enviroments/mem-ind/lib/python3.10/site-packages/stable_baselines3/__init__.py)"
     ]
    }
   ],
   "source": [
    "import gym\n",
    "import pandas as pd\n",
    "import numpy as np\n",
    "from stable_baselines3 import QLearningAgent"
   ],
   "metadata": {
    "collapsed": false,
    "ExecuteTime": {
     "end_time": "2024-03-10T20:10:11.798910Z",
     "start_time": "2024-03-10T20:10:11.768612Z"
    }
   },
   "id": "278b83117ba3b0e8",
   "execution_count": 2
  },
  {
   "cell_type": "code",
   "outputs": [],
   "source": [
    "def calculate_rsi(prices, n=30):\n",
    "    deltas = np.diff(prices)\n",
    "    seed = deltas[:n + 1]\n",
    "    up = seed[seed >= 0].sum() / n\n",
    "    down = -seed[seed < 0].sum() / n\n",
    "    rs = up / down\n",
    "    rsi = [np.nan] * (n - 1) + [100. - 100. / (1. + rs)]\n",
    "\n",
    "    for i in range(n, len(prices)):\n",
    "        delta = deltas[i - 1]  # Cambio actual\n",
    "        if delta > 0:\n",
    "            upval = delta\n",
    "            downval = 0.\n",
    "        else:\n",
    "            upval = 0.\n",
    "            downval = -delta\n",
    "        up = (up * (n - 1) + upval) / n\n",
    "        down = (down * (n - 1) + downval) / n\n",
    "        rs = up / down\n",
    "        rsi.append(100. - 100. / (1. + rs))\n",
    "\n",
    "    return rsi"
   ],
   "metadata": {
    "collapsed": false,
    "ExecuteTime": {
     "end_time": "2024-03-10T20:02:15.675991Z",
     "start_time": "2024-03-10T20:02:15.665102Z"
    }
   },
   "id": "f3b2cffb0216619b",
   "execution_count": 1
  },
  {
   "cell_type": "code",
   "execution_count": null,
   "id": "initial_id",
   "metadata": {
    "collapsed": true
   },
   "outputs": [],
   "source": [
    "\n",
    "import numpy as np\n",
    "\n",
    "class RSIEnv(gym.Env):\n",
    "    def __init__(self, data):\n",
    "        self.data = data\n",
    "        self.prices = data['Adj Close'].values\n",
    "        self.rsi = calculate_rsi(self.prices, 14)\n",
    "        self.action_space = gym.spaces.Discrete(2)\n",
    "        self.observation_space = gym.spaces.Box(low=-1, high=1, shape=(1,))\n",
    "        self.reset()\n",
    "\n",
    "    def reset(self):\n",
    "        self.t = 0\n",
    "        self.done = False\n",
    "        self.state = self.rsi[self.t]\n",
    "        return self.state\n",
    "\n",
    "    def step(self, action):\n",
    "        reward = 0\n",
    "        if action == 1:\n",
    "            if self.prices[self.t + 1] > self.prices[self.t]:\n",
    "                reward = 1\n",
    "            else:\n",
    "                reward = -1\n",
    "        elif action == 0:\n",
    "            if self.prices[self.t + 1] < self.prices[self.t]:\n",
    "                reward = 1\n",
    "            else:\n",
    "                reward = -1\n",
    "        self.t += 1\n",
    "        self.state = self.rsi[self.t]\n",
    "        self.done = self.t >= len(self.prices) - 1\n",
    "        return self.state, reward, self.done, {}\n",
    "\n",
    "def main():\n",
    "    # Carga de datos\n",
    "    data = pd.read_csv('data.csv', index_col='Date')\n",
    "\n",
    "    # Entorno\n",
    "    env = RSIEnv(data)\n",
    "\n",
    "    # Agente\n",
    "    agent = QLearningAgent(env.observation_space, env.action_space)\n",
    "\n",
    "    # Entrenamiento\n",
    "    for episode in range(100):\n",
    "        state = env.reset()\n",
    "        while not env.done:\n",
    "            action = agent.act(state)\n",
    "            next_state, reward, done, _ = env.step(action)\n",
    "            agent.learn(state, action, reward, next_state, done)\n",
    "            state = next_state\n",
    "\n",
    "    # Evaluación\n",
    "    env = RSIEnv(data)\n",
    "    state = env.reset()\n",
    "    total_reward = 0\n",
    "    while not env.done:\n",
    "        action = agent.act(state)\n",
    "        next_state, reward, done, _ = env.step(action)\n",
    "        total_reward += reward\n",
    "        state = next_state\n",
    "\n",
    "    print(f\"Reward total: {total_reward}\")\n",
    "\n",
    "if __name__ == \"__main__\":\n",
    "    main()\n"
   ]
  }
 ],
 "metadata": {
  "kernelspec": {
   "display_name": "Python 3",
   "language": "python",
   "name": "python3"
  },
  "language_info": {
   "codemirror_mode": {
    "name": "ipython",
    "version": 2
   },
   "file_extension": ".py",
   "mimetype": "text/x-python",
   "name": "python",
   "nbconvert_exporter": "python",
   "pygments_lexer": "ipython2",
   "version": "2.7.6"
  }
 },
 "nbformat": 4,
 "nbformat_minor": 5
}
